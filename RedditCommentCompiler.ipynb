{
  "nbformat": 4,
  "nbformat_minor": 0,
  "metadata": {
    "colab": {
      "provenance": []
    },
    "kernelspec": {
      "name": "python3",
      "display_name": "Python 3"
    },
    "language_info": {
      "name": "python"
    }
  },
  "cells": [
    {
      "cell_type": "code",
      "execution_count": 11,
      "metadata": {
        "colab": {
          "base_uri": "https://localhost:8080/"
        },
        "id": "ML5BWyr4xAsp",
        "outputId": "04f9d2cc-712a-4bf5-c740-94a5a65c9df5"
      },
      "outputs": [
        {
          "output_type": "stream",
          "name": "stdout",
          "text": [
            "Requirement already satisfied: praw in /usr/local/lib/python3.10/dist-packages (7.7.1)\n",
            "Requirement already satisfied: prawcore<3,>=2.1 in /usr/local/lib/python3.10/dist-packages (from praw) (2.4.0)\n",
            "Requirement already satisfied: update-checker>=0.18 in /usr/local/lib/python3.10/dist-packages (from praw) (0.18.0)\n",
            "Requirement already satisfied: websocket-client>=0.54.0 in /usr/local/lib/python3.10/dist-packages (from praw) (1.8.0)\n",
            "Requirement already satisfied: requests<3.0,>=2.6.0 in /usr/local/lib/python3.10/dist-packages (from prawcore<3,>=2.1->praw) (2.32.3)\n",
            "Requirement already satisfied: charset-normalizer<4,>=2 in /usr/local/lib/python3.10/dist-packages (from requests<3.0,>=2.6.0->prawcore<3,>=2.1->praw) (3.3.2)\n",
            "Requirement already satisfied: idna<4,>=2.5 in /usr/local/lib/python3.10/dist-packages (from requests<3.0,>=2.6.0->prawcore<3,>=2.1->praw) (3.10)\n",
            "Requirement already satisfied: urllib3<3,>=1.21.1 in /usr/local/lib/python3.10/dist-packages (from requests<3.0,>=2.6.0->prawcore<3,>=2.1->praw) (2.2.3)\n",
            "Requirement already satisfied: certifi>=2017.4.17 in /usr/local/lib/python3.10/dist-packages (from requests<3.0,>=2.6.0->prawcore<3,>=2.1->praw) (2024.8.30)\n"
          ]
        }
      ],
      "source": [
        "!pip install praw\n",
        "\n",
        "import praw\n",
        "import logging\n",
        "import csv\n",
        "\n",
        "#suppress PRAW async warning by setting logging level to ERROR\n",
        "logging.getLogger(\"praw\").setLevel(logging.ERROR)\n",
        "\n",
        "#set up PRAW with my created reddit app (commentdownloader) credentials\n",
        "reddit = praw.Reddit(\n",
        "    client_id='wK4F4t3ITVUZqDQRRhpXzQ',\n",
        "    client_secret='uhJ8fb-lC-0RFjMRnR7EF-Cp81pnrw',\n",
        "    user_agent='commentdownloader'\n",
        ")\n",
        "\n"
      ]
    },
    {
      "cell_type": "code",
      "source": [
        "def fetch_comments_from_subreddit(subreddit_name, limit=10):\n",
        "    subreddit = reddit.subreddit(subreddit_name)\n",
        "\n",
        "    #open the CSV file for writing\n",
        "    with open('reddit_comments.csv', mode='w', newline='', encoding='utf-8') as file:\n",
        "        writer = csv.writer(file)\n",
        "        #write header\n",
        "        writer.writerow(['Post Title', 'Comment'])\n",
        "\n",
        "        #fetch new posts\n",
        "        for submission in subreddit.new(limit=limit):\n",
        "            print(f\"Post Title: {submission.title}\")\n",
        "\n",
        "            #ensure all comments are loaded\n",
        "            submission.comments.replace_more(limit=None)\n",
        "\n",
        "            #extract comment list from post threads\n",
        "            comments = submission.comments.list()\n",
        "\n",
        "            #write comments to CSV\n",
        "            for comment in comments:\n",
        "                writer.writerow([submission.title, comment.body])\n",
        "\n",
        "#call the function\n",
        "fetch_comments_from_subreddit('soccer', limit=20)"
      ],
      "metadata": {
        "colab": {
          "base_uri": "https://localhost:8080/"
        },
        "id": "cS-lG3erE6S-",
        "outputId": "fbba9f0c-94b8-48ab-97a9-03e6fd8899b5"
      },
      "execution_count": 12,
      "outputs": [
        {
          "output_type": "stream",
          "name": "stdout",
          "text": [
            "Post Title: [Aguirre] Fight between fans of Junior and Atletico Nacional suspends game in Colombia (Nacional leading 2-0 at home)\n",
            "Post Title: 2024 CONMEBOL Sudamericana semifinals bracket\n",
            "Post Title: Racing (ARG) [1] - Athletico PR (BRA) 0 - Copa Sudamericana QF - 2nd leg\n",
            "Post Title: Scenes in Montevideo as Peñarol, one of the all-time iconic clubs of the Americas, upset Flamengo to advance to the Copa Libertadores semi final for the 2nd time since 1987\n",
            "Post Title: 2024 CONMEBOL Libertadores semifinals bracket \n",
            "Post Title: [Conmebol Libertadores] Peñarol eliminates Flamengo and qualifies for semi finals of Copa Libertadores\n",
            "Post Title: [Cesar Luis Merlo] Bayer Leverkusen is in advanced negotiations to sign Alejo Sarco as a free agent in 2025. The talented 18-year-old Vélez Sarsfield striker did not reach an agreement to renew his contract and the club decided not to consider him.\n",
            "Post Title: Peñarol tifo in the Copa libertadores quarter finals vs Flamengo \n",
            "Post Title: Match Thread: Peñarol vs Flamengo | CONMEBOL Libertadores\n",
            "Post Title: 2024/25 UEFA Europa League Matchday 1 results and table\n",
            "Post Title: UEFA 2024/25 Country Coefficient ranking | League stage matchdays: 2/10 - CL 1/8, EL [1]/8, ConL 0/6\n",
            "Post Title: 40 (Years) Not Out - September 26th (Milk Cup 2nd Round review)\n",
            "Post Title: Post Match Thread: Tottenham Hotspur 3-0 FK Qarabag | UEFA Europa League\n",
            "Post Title: [Luke Edwards] Anthony Gordon close to signing new long term contract with Newcastle. Gordon's initial demands of being the clubs highest earner were rejected but he will still get a significant pay rise.\n",
            "Post Title: Maccabi Tel Aviv - Double Red Card vs. Braga (Kanichowsky 90'+8, Asante 90'+9)\n",
            "Post Title: Post Match Thread: Braga 2-1 Maccabi Tel-Aviv | UEFA Europa League\n",
            "Post Title: Tottenham Hotspur [3] - 0 Qarabag - Dominic Solanke 68' \n",
            "Post Title: Braga [2] - 1 Maccabi Tel-Aviv - Bruma 90'+5'\n",
            "Post Title: La Liga standings after match day 7\n",
            "Post Title: Post Match Thread: Napoli 5-0 Palermo | Coppa Italia\n"
          ]
        }
      ]
    },
    {
      "cell_type": "code",
      "source": [
        "from google.colab import files\n",
        "#download the comment file\n",
        "files.download('reddit_comments.csv')"
      ],
      "metadata": {
        "colab": {
          "base_uri": "https://localhost:8080/",
          "height": 17
        },
        "id": "OxuGrrofj-V4",
        "outputId": "8cf7bbcf-f27b-465f-8230-7b64df983b8a"
      },
      "execution_count": 13,
      "outputs": [
        {
          "output_type": "display_data",
          "data": {
            "text/plain": [
              "<IPython.core.display.Javascript object>"
            ],
            "application/javascript": [
              "\n",
              "    async function download(id, filename, size) {\n",
              "      if (!google.colab.kernel.accessAllowed) {\n",
              "        return;\n",
              "      }\n",
              "      const div = document.createElement('div');\n",
              "      const label = document.createElement('label');\n",
              "      label.textContent = `Downloading \"${filename}\": `;\n",
              "      div.appendChild(label);\n",
              "      const progress = document.createElement('progress');\n",
              "      progress.max = size;\n",
              "      div.appendChild(progress);\n",
              "      document.body.appendChild(div);\n",
              "\n",
              "      const buffers = [];\n",
              "      let downloaded = 0;\n",
              "\n",
              "      const channel = await google.colab.kernel.comms.open(id);\n",
              "      // Send a message to notify the kernel that we're ready.\n",
              "      channel.send({})\n",
              "\n",
              "      for await (const message of channel.messages) {\n",
              "        // Send a message to notify the kernel that we're ready.\n",
              "        channel.send({})\n",
              "        if (message.buffers) {\n",
              "          for (const buffer of message.buffers) {\n",
              "            buffers.push(buffer);\n",
              "            downloaded += buffer.byteLength;\n",
              "            progress.value = downloaded;\n",
              "          }\n",
              "        }\n",
              "      }\n",
              "      const blob = new Blob(buffers, {type: 'application/binary'});\n",
              "      const a = document.createElement('a');\n",
              "      a.href = window.URL.createObjectURL(blob);\n",
              "      a.download = filename;\n",
              "      div.appendChild(a);\n",
              "      a.click();\n",
              "      div.remove();\n",
              "    }\n",
              "  "
            ]
          },
          "metadata": {}
        },
        {
          "output_type": "display_data",
          "data": {
            "text/plain": [
              "<IPython.core.display.Javascript object>"
            ],
            "application/javascript": [
              "download(\"download_28bff744-03a9-4203-9852-fa3d2751bc97\", \"reddit_comments.csv\", 142618)"
            ]
          },
          "metadata": {}
        }
      ]
    }
  ]
}